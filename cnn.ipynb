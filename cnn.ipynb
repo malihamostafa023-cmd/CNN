{
  "nbformat": 4,
  "nbformat_minor": 0,
  "metadata": {
    "colab": {
      "provenance": [],
      "gpuType": "T4",
      "authorship_tag": "ABX9TyMoRiLls3o+S8L/CulYHObZ",
      "include_colab_link": true
    },
    "kernelspec": {
      "name": "python3",
      "display_name": "Python 3"
    },
    "language_info": {
      "name": "python"
    },
    "accelerator": "GPU"
  },
  "cells": [
    {
      "cell_type": "markdown",
      "metadata": {
        "id": "view-in-github",
        "colab_type": "text"
      },
      "source": [
        "<a href=\"https://colab.research.google.com/github/malihamostafa023-cmd/CNN/blob/main/cnn.ipynb\" target=\"_parent\"><img src=\"https://colab.research.google.com/assets/colab-badge.svg\" alt=\"Open In Colab\"/></a>"
      ]
    },
    {
      "cell_type": "code",
      "execution_count": null,
      "metadata": {
        "colab": {
          "base_uri": "https://localhost:8080/"
        },
        "id": "h-Srrk_-sjuB",
        "outputId": "2cbaf4bb-b52e-485f-c1ee-e7e883050d92"
      },
      "outputs": [
        {
          "output_type": "stream",
          "name": "stdout",
          "text": [
            "Drive already mounted at /content/drive; to attempt to forcibly remount, call drive.mount(\"/content/drive\", force_remount=True).\n",
            "Found: /content/drive/MyDrive/Colab Notebooks/chest_xray/train\n",
            "Found: /content/drive/MyDrive/Colab Notebooks/chest_xray/val\n",
            "Found: /content/drive/MyDrive/Colab Notebooks/chest_xray/test\n"
          ]
        }
      ],
      "source": [
        "# Mount Google Drive\n",
        "from google.colab import drive\n",
        "drive.mount('/content/drive')\n",
        "\n",
        "# Verify the dataset folders exist\n",
        "import os\n",
        "\n",
        "DATA_DIR = \"/content/drive/MyDrive/Colab Notebooks/chest_xray\" # Moved to the next cell\n",
        "\n",
        "for split in [\"train\", \"val\", \"test\"]:\n",
        "    path = os.path.join(DATA_DIR, split)\n",
        "    if not os.path.isdir(path):\n",
        "        print(f\"Missing: {path}\")\n",
        "    else:\n",
        "        print(f\"Found: {path}\")"
      ]
    },
    {
      "cell_type": "code",
      "source": [
        "import os\n",
        "\n",
        "!ls \"/content/drive/MyDrive/Colab Notebooks/chest_xray\"\n"
      ],
      "metadata": {
        "colab": {
          "base_uri": "https://localhost:8080/"
        },
        "id": "Fdscbibet8Bq",
        "outputId": "69a3eb8e-c2d8-4949-846e-4d9bdc1770df"
      },
      "execution_count": null,
      "outputs": [
        {
          "output_type": "stream",
          "name": "stdout",
          "text": [
            "chest_xray  __MACOSX  test  train  val\n"
          ]
        }
      ]
    },
    {
      "cell_type": "code",
      "source": [
        "import os\n",
        "import torch\n",
        "import torch.nn as nn\n",
        "import torch.optim as optim\n",
        "from torch.utils.data import DataLoader\n",
        "from torchvision import datasets, transforms, models\n",
        "\n",
        "# ===============================\n",
        "# Device setup\n",
        "# ===============================\n",
        "device = torch.device(\"cuda\" if torch.cuda.is_available() else \"cpu\")\n",
        "print(\"Using device:\", device)\n",
        "\n",
        "# ===============================\n",
        "# Data transforms\n",
        "# ===============================\n",
        "data_transforms = {\n",
        "    \"train\": transforms.Compose([\n",
        "        transforms.Resize((224, 224)),\n",
        "        transforms.RandomHorizontalFlip(),\n",
        "        transforms.RandomRotation(10),\n",
        "        transforms.ToTensor(),\n",
        "        transforms.Normalize([0.485, 0.456, 0.406],  # ImageNet mean\n",
        "                             [0.229, 0.224, 0.225]) # ImageNet std\n",
        "    ]),\n",
        "    \"val\": transforms.Compose([\n",
        "        transforms.Resize((224, 224)),\n",
        "        transforms.ToTensor(),\n",
        "        transforms.Normalize([0.485, 0.456, 0.406],\n",
        "                             [0.229, 0.224, 0.225])\n",
        "    ]),\n",
        "    \"test\": transforms.Compose([\n",
        "        transforms.Resize((224, 224)),\n",
        "        transforms.ToTensor(),\n",
        "        transforms.Normalize([0.485, 0.456, 0.406],\n",
        "                             [0.229, 0.224, 0.225])\n",
        "    ]),\n",
        "}\n",
        "\n",
        "# ===============================\n",
        "# Dataset and DataLoader\n",
        "# ===============================\n",
        "DATA_DIR = \"/content/drive/MyDrive/Colab Notebooks/chest_xray\"\n",
        "\n",
        "# If you only have train + test, we'll use part of train as validation\n",
        "splits = []\n",
        "if os.path.isdir(os.path.join(DATA_DIR, \"train\")): splits.append(\"train\")\n",
        "if os.path.isdir(os.path.join(DATA_DIR, \"val\")): splits.append(\"val\")\n",
        "if os.path.isdir(os.path.join(DATA_DIR, \"test\")): splits.append(\"test\")\n",
        "\n",
        "image_datasets = {x: datasets.ImageFolder(os.path.join(DATA_DIR, x), data_transforms[x])\n",
        "                  for x in splits}\n",
        "\n",
        "dataloaders = {x: DataLoader(image_datasets[x], batch_size=32, shuffle=True, num_workers=2)\n",
        "               for x in splits}\n",
        "\n",
        "class_names = image_datasets[splits[0]].classes\n",
        "print(\"Classes:\", class_names)\n",
        "\n",
        "# ===============================\n",
        "# Load Pretrained ResNet18\n",
        "# ===============================\n",
        "model = models.resnet18(pretrained=True)\n",
        "\n",
        "# Freeze all layers first\n",
        "for param in model.parameters():\n",
        "    param.requires_grad = False\n",
        "\n",
        "# Replace final layer for 2 classes\n",
        "num_ftrs = model.fc.in_features\n",
        "model.fc = nn.Sequential(\n",
        "    nn.Linear(num_ftrs, 256),\n",
        "    nn.ReLU(),\n",
        "    nn.Dropout(0.4),\n",
        "    nn.Linear(256, len(class_names))\n",
        ")\n",
        "\n",
        "model = model.to(device)\n",
        "\n",
        "# ===============================\n",
        "# Loss and optimizer\n",
        "# ===============================\n",
        "criterion = nn.CrossEntropyLoss()\n",
        "optimizer = optim.Adam(model.fc.parameters(), lr=0.0005)\n",
        "\n",
        "# ===============================\n",
        "# Training loop\n",
        "# ===============================\n",
        "def train_model(model, dataloaders, criterion, optimizer, num_epochs=5):\n",
        "    best_acc = 0.0\n",
        "    for epoch in range(num_epochs):\n",
        "        print(f\"\\nEpoch {epoch+1}/{num_epochs}\")\n",
        "        for phase in [\"train\", \"val\"] if \"val\" in dataloaders else [\"train\"]:\n",
        "            if phase == \"train\":\n",
        "                model.train()\n",
        "            else:\n",
        "                model.eval()\n",
        "\n",
        "            running_loss = 0.0\n",
        "            running_corrects = 0\n",
        "\n",
        "            for inputs, labels in dataloaders[phase]:\n",
        "                inputs, labels = inputs.to(device), labels.to(device)\n",
        "                optimizer.zero_grad()\n",
        "\n",
        "                with torch.set_grad_enabled(phase == \"train\"):\n",
        "                    outputs = model(inputs)\n",
        "                    _, preds = torch.max(outputs, 1)\n",
        "                    loss = criterion(outputs, labels)\n",
        "\n",
        "                    if phase == \"train\":\n",
        "                        loss.backward()\n",
        "                        optimizer.step()\n",
        "\n",
        "                running_loss += loss.item() * inputs.size(0)\n",
        "                running_corrects += torch.sum(preds == labels.data)\n",
        "\n",
        "            epoch_loss = running_loss / len(image_datasets[phase])\n",
        "            epoch_acc = running_corrects.double() / len(image_datasets[phase])\n",
        "\n",
        "            print(f\"{phase} Loss: {epoch_loss:.4f} Acc: {epoch_acc:.4f}\")\n",
        "\n",
        "            # save best model\n",
        "            if phase == \"val\" and epoch_acc > best_acc:\n",
        "                best_acc = epoch_acc\n",
        "                torch.save(model.state_dict(), \"best_model.pth\")\n",
        "\n",
        "    print(\"Training complete.\")\n",
        "    if \"val\" in dataloaders:\n",
        "        print(\"Best val Acc: {:.4f}\".format(best_acc))\n",
        "    return model\n",
        "\n",
        "model = train_model(model, dataloaders, criterion, optimizer, num_epochs=5)\n",
        "\n",
        "# ===============================\n",
        "# Test evaluation\n",
        "# ===============================\n",
        "def test_model(model, dataloader):\n",
        "    model.eval()\n",
        "    correct = 0\n",
        "    total = 0\n",
        "    with torch.no_grad():\n",
        "        for inputs, labels in dataloader:\n",
        "            inputs, labels = inputs.to(device), labels.to(device)\n",
        "            outputs = model(inputs)\n",
        "            _, preds = torch.max(outputs, 1)\n",
        "            correct += (preds == labels).sum().item()\n",
        "            total += labels.size(0)\n",
        "    print(f\"Test Accuracy: {100 * correct / total:.2f}%\")\n",
        "\n",
        "if \"test\" in dataloaders:\n",
        "    test_model(model, dataloaders[\"test\"])\n"
      ],
      "metadata": {
        "colab": {
          "base_uri": "https://localhost:8080/"
        },
        "id": "ZCE_SIKiuyVC",
        "outputId": "ab1cc66d-51b9-4895-a924-6e9ec859ec9c"
      },
      "execution_count": null,
      "outputs": [
        {
          "output_type": "stream",
          "name": "stdout",
          "text": [
            "Using device: cuda\n",
            "Classes: ['NORMAL', 'PNEUMONIA']\n",
            "\n",
            "Epoch 1/5\n",
            "train Loss: 0.2876 Acc: 0.8758\n",
            "val Loss: 0.2618 Acc: 0.8125\n",
            "\n",
            "Epoch 2/5\n",
            "train Loss: 0.2005 Acc: 0.9208\n",
            "val Loss: 0.3413 Acc: 0.7500\n",
            "\n",
            "Epoch 3/5\n",
            "train Loss: 0.1545 Acc: 0.9387\n",
            "val Loss: 0.3229 Acc: 0.8125\n",
            "\n",
            "Epoch 4/5\n",
            "train Loss: 0.1576 Acc: 0.9369\n",
            "val Loss: 0.2936 Acc: 0.8125\n",
            "\n",
            "Epoch 5/5\n",
            "train Loss: 0.1425 Acc: 0.9456\n",
            "val Loss: 0.3201 Acc: 0.8125\n",
            "Training complete.\n",
            "Best val Acc: 0.8125\n",
            "Test Accuracy: 88.14%\n"
          ]
        }
      ]
    },
    {
      "cell_type": "code",
      "source": [
        "from google.colab import files\n",
        "from PIL import Image\n",
        "import matplotlib.pyplot as plt\n",
        "\n",
        "# ===============================\n",
        "# Load best saved model\n",
        "# ===============================\n",
        "model = models.resnet18(pretrained=True)\n",
        "num_ftrs = model.fc.in_features\n",
        "model.fc = nn.Sequential(\n",
        "    nn.Linear(num_ftrs, 256),\n",
        "    nn.ReLU(),\n",
        "    nn.Dropout(0.4),\n",
        "    nn.Linear(256, len(class_names))\n",
        ")\n",
        "model.load_state_dict(torch.load(\"best_model.pth\", map_location=device))\n",
        "model = model.to(device)\n",
        "model.eval()\n",
        "\n",
        "# ===============================\n",
        "# Upload an image\n",
        "# ===============================\n",
        "uploaded = files.upload()\n",
        "img_path = list(uploaded.keys())[0]\n",
        "\n",
        "# ===============================\n",
        "# Preprocess the image\n",
        "# ===============================\n",
        "transform = transforms.Compose([\n",
        "    transforms.Resize((224, 224)),\n",
        "    transforms.ToTensor(),\n",
        "    transforms.Normalize([0.485, 0.456, 0.406],\n",
        "                         [0.229, 0.224, 0.225])\n",
        "])\n",
        "\n",
        "img = Image.open(img_path).convert(\"RGB\")\n",
        "img_tensor = transform(img).unsqueeze(0).to(device)\n",
        "\n",
        "# ===============================\n",
        "# Make prediction\n",
        "# ===============================\n",
        "with torch.no_grad():\n",
        "    outputs = model(img_tensor)\n",
        "    _, preds = torch.max(outputs, 1)\n",
        "    predicted_class = class_names[preds.item()]\n",
        "\n",
        "# ===============================\n",
        "# Show result\n",
        "# ===============================\n",
        "plt.imshow(img)\n",
        "plt.axis(\"off\")\n",
        "plt.title(f\"Prediction: {predicted_class}\")\n",
        "plt.show()\n"
      ],
      "metadata": {
        "colab": {
          "base_uri": "https://localhost:8080/",
          "height": 211
        },
        "id": "dzx7oe-VwW59",
        "outputId": "cd03539a-c16d-49dd-a4f4-819fda0708f8"
      },
      "execution_count": null,
      "outputs": [
        {
          "output_type": "error",
          "ename": "NameError",
          "evalue": "name 'models' is not defined",
          "traceback": [
            "\u001b[0;31m---------------------------------------------------------------------------\u001b[0m",
            "\u001b[0;31mNameError\u001b[0m                                 Traceback (most recent call last)",
            "\u001b[0;32m/tmp/ipython-input-2893198946.py\u001b[0m in \u001b[0;36m<cell line: 0>\u001b[0;34m()\u001b[0m\n\u001b[1;32m      6\u001b[0m \u001b[0;31m# Load best saved model\u001b[0m\u001b[0;34m\u001b[0m\u001b[0;34m\u001b[0m\u001b[0m\n\u001b[1;32m      7\u001b[0m \u001b[0;31m# ===============================\u001b[0m\u001b[0;34m\u001b[0m\u001b[0;34m\u001b[0m\u001b[0m\n\u001b[0;32m----> 8\u001b[0;31m \u001b[0mmodel\u001b[0m \u001b[0;34m=\u001b[0m \u001b[0mmodels\u001b[0m\u001b[0;34m.\u001b[0m\u001b[0mresnet18\u001b[0m\u001b[0;34m(\u001b[0m\u001b[0mpretrained\u001b[0m\u001b[0;34m=\u001b[0m\u001b[0;32mTrue\u001b[0m\u001b[0;34m)\u001b[0m\u001b[0;34m\u001b[0m\u001b[0;34m\u001b[0m\u001b[0m\n\u001b[0m\u001b[1;32m      9\u001b[0m \u001b[0mnum_ftrs\u001b[0m \u001b[0;34m=\u001b[0m \u001b[0mmodel\u001b[0m\u001b[0;34m.\u001b[0m\u001b[0mfc\u001b[0m\u001b[0;34m.\u001b[0m\u001b[0min_features\u001b[0m\u001b[0;34m\u001b[0m\u001b[0;34m\u001b[0m\u001b[0m\n\u001b[1;32m     10\u001b[0m model.fc = nn.Sequential(\n",
            "\u001b[0;31mNameError\u001b[0m: name 'models' is not defined"
          ]
        }
      ]
    }
  ]
}